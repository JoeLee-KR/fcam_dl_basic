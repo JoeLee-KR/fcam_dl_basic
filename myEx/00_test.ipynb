{
 "cells": [
  {
   "cell_type": "markdown",
   "id": "764fce00",
   "metadata": {
    "pycharm": {
     "name": "#%% md\n"
    }
   },
   "source": [
    "# Hello by Joe\n",
    "start here... ..."
   ]
  },
  {
   "cell_type": "code",
   "execution_count": 1,
   "id": "ec846a84",
   "metadata": {
    "pycharm": {
     "name": "#%%\n"
    }
   },
   "outputs": [],
   "source": [
    "import numpy as np"
   ]
  },
  {
   "cell_type": "code",
   "execution_count": 2,
   "id": "caa203c1-2876-4bbf-8514-030c9b71a57b",
   "metadata": {
    "pycharm": {
     "name": "#%%\n"
    }
   },
   "outputs": [
    {
     "name": "stdout",
     "output_type": "stream",
     "text": [
      "1.22.3\n"
     ]
    }
   ],
   "source": [
    "print(np.__version__)"
   ]
  },
  {
   "cell_type": "code",
   "execution_count": 4,
   "id": "78629dde",
   "metadata": {
    "pycharm": {
     "name": "#%%\n"
    }
   },
   "outputs": [
    {
     "ename": "ModuleNotFoundError",
     "evalue": "No module named 'torch'",
     "output_type": "error",
     "traceback": [
      "\u001B[0;31m---------------------------------------------------------------------------\u001B[0m",
      "\u001B[0;31mModuleNotFoundError\u001B[0m                       Traceback (most recent call last)",
      "\u001B[1;32m/Volumes/macSSD/Develop/fcam_dl_basic/myEx/00_test.ipynb Cell 4'\u001B[0m in \u001B[0;36m<cell line: 1>\u001B[0;34m()\u001B[0m\n\u001B[0;32m----> <a href='vscode-notebook-cell:/Volumes/macSSD/Develop/fcam_dl_basic/myEx/00_test.ipynb#ch0000003?line=0'>1</a>\u001B[0m \u001B[39mimport\u001B[39;00m \u001B[39mtorch\u001B[39;00m \u001B[39mas\u001B[39;00m \u001B[39mtc\u001B[39;00m\n",
      "\u001B[0;31mModuleNotFoundError\u001B[0m: No module named 'torch'"
     ]
    }
   ],
   "source": [
    "import torch as tc"
   ]
  },
  {
   "cell_type": "code",
   "execution_count": 5,
   "id": "d9f5efe6",
   "metadata": {
    "pycharm": {
     "name": "#%%\n"
    }
   },
   "outputs": [
    {
     "ename": "NameError",
     "evalue": "name 'tc' is not defined",
     "output_type": "error",
     "traceback": [
      "\u001B[0;31m---------------------------------------------------------------------------\u001B[0m",
      "\u001B[0;31mNameError\u001B[0m                                 Traceback (most recent call last)",
      "\u001B[1;32m/Volumes/macSSD/Develop/fcam_dl_basic/myEx/00_test.ipynb Cell 5'\u001B[0m in \u001B[0;36m<cell line: 1>\u001B[0;34m()\u001B[0m\n\u001B[0;32m----> <a href='vscode-notebook-cell:/Volumes/macSSD/Develop/fcam_dl_basic/myEx/00_test.ipynb#ch0000004?line=0'>1</a>\u001B[0m \u001B[39mprint\u001B[39m(tc\u001B[39m.\u001B[39m__version__)\n",
      "\u001B[0;31mNameError\u001B[0m: name 'tc' is not defined"
     ]
    }
   ],
   "source": [
    "print(tc.__version__)"
   ]
  },
  {
   "cell_type": "code",
   "execution_count": 6,
   "id": "774379d7",
   "metadata": {
    "pycharm": {
     "name": "#%%\n"
    }
   },
   "outputs": [
    {
     "ename": "NameError",
     "evalue": "name 'tc' is not defined",
     "output_type": "error",
     "traceback": [
      "\u001B[0;31m---------------------------------------------------------------------------\u001B[0m",
      "\u001B[0;31mNameError\u001B[0m                                 Traceback (most recent call last)",
      "\u001B[1;32m/Volumes/macSSD/Develop/fcam_dl_basic/myEx/00_test.ipynb Cell 6'\u001B[0m in \u001B[0;36m<cell line: 1>\u001B[0;34m()\u001B[0m\n\u001B[0;32m----> <a href='vscode-notebook-cell:/Volumes/macSSD/Develop/fcam_dl_basic/myEx/00_test.ipynb#ch0000005?line=0'>1</a>\u001B[0m \u001B[39mprint\u001B[39m(\u001B[39m\"\u001B[39m\u001B[39mHello pytorch:\u001B[39m\u001B[39m\"\u001B[39m, tc\u001B[39m.\u001B[39m__version__)\n",
      "\u001B[0;31mNameError\u001B[0m: name 'tc' is not defined"
     ]
    }
   ],
   "source": [
    "print(\"Hello pytorch:\", tc.__version__)"
   ]
  },
  {
   "cell_type": "code",
   "execution_count": 8,
   "metadata": {
    "collapsed": false,
    "pycharm": {
     "name": "#%%\n"
    }
   },
   "outputs": [
    {
     "name": "stdout",
     "output_type": "stream",
     "text": [
      "Hello import\n"
     ]
    }
   ],
   "source": [
    "print('Hello import...')"
   ]
  }
 ],
 "metadata": {
  "kernelspec": {
   "display_name": "Python 3 (ipykernel)",
   "language": "python",
   "name": "python3"
  },
  "language_info": {
   "codemirror_mode": {
    "name": "ipython",
    "version": 3
   },
   "file_extension": ".py",
   "mimetype": "text/x-python",
   "name": "python",
   "nbconvert_exporter": "python",
   "pygments_lexer": "ipython3",
   "version": "3.8.13"
  }
 },
 "nbformat": 4,
 "nbformat_minor": 5
}