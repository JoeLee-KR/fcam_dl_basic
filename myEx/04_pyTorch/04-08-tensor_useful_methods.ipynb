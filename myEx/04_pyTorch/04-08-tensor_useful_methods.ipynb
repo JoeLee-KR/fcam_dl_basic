{
 "cells": [
  {
   "cell_type": "markdown",
   "metadata": {
    "pycharm": {
     "name": "#%% md\n"
    }
   },
   "source": [
    "# PyTorch Useful Methods"
   ]
  },
  {
   "cell_type": "code",
   "execution_count": 9,
   "metadata": {
    "pycharm": {
     "name": "#%%\n"
    }
   },
   "outputs": [],
   "source": [
    "import torch"
   ]
  },
  {
   "cell_type": "markdown",
   "metadata": {
    "pycharm": {
     "name": "#%% md\n"
    }
   },
   "source": [
    "### expand: copy the given tensor and concat those at desired dimension."
   ]
  },
  {
   "cell_type": "code",
   "execution_count": 10,
   "metadata": {
    "pycharm": {
     "name": "#%%\n"
    }
   },
   "outputs": [
    {
     "name": "stdout",
     "output_type": "stream",
     "text": [
      "tensor([[[1., 2.]],\n",
      "\n",
      "        [[3., 4.]]])\n",
      "torch.Size([2, 1, 2])\n"
     ]
    }
   ],
   "source": [
    "x = torch.FloatTensor([[[1, 2]],\n",
    "                       [[3, 4]]])\n",
    "print(x)\n",
    "print(x.size())"
   ]
  },
  {
   "cell_type": "code",
   "execution_count": 11,
   "metadata": {
    "pycharm": {
     "name": "#%%\n"
    }
   },
   "outputs": [
    {
     "name": "stdout",
     "output_type": "stream",
     "text": [
      "tensor([[[1., 2.],\n",
      "         [1., 2.],\n",
      "         [1., 2.]],\n",
      "\n",
      "        [[3., 4.],\n",
      "         [3., 4.],\n",
      "         [3., 4.]]])\n",
      "torch.Size([2, 3, 2])\n"
     ]
    }
   ],
   "source": [
    "y = x.expand(*[2, 3, 2])\n",
    "\n",
    "print(y)\n",
    "print(y.size())"
   ]
  },
  {
   "cell_type": "markdown",
   "metadata": {
    "pycharm": {
     "name": "#%% md\n"
    }
   },
   "source": [
    "#### Implement expand with cat."
   ]
  },
  {
   "cell_type": "code",
   "execution_count": 16,
   "metadata": {
    "pycharm": {
     "name": "#%%\n"
    }
   },
   "outputs": [
    {
     "name": "stdout",
     "output_type": "stream",
     "text": [
      "tensor([[[1., 2.],\n",
      "         [1., 2.],\n",
      "         [1., 2.]],\n",
      "\n",
      "        [[3., 4.],\n",
      "         [3., 4.],\n",
      "         [3., 4.]]])\n",
      "torch.Size([2, 3, 2])\n",
      "tensor([[[1., 2.]],\n",
      "\n",
      "        [[3., 4.]]])\n",
      "torch.Size([2, 1, 2])\n",
      "tensor([[[1., 2.]],\n",
      "\n",
      "        [[3., 4.]],\n",
      "\n",
      "        [[1., 2.]],\n",
      "\n",
      "        [[3., 4.]],\n",
      "\n",
      "        [[1., 2.]],\n",
      "\n",
      "        [[3., 4.]]])\n",
      "torch.Size([6, 1, 2])\n"
     ]
    }
   ],
   "source": [
    "z = torch.cat([x, x, x], dim=1)\n",
    "\n",
    "print(z)\n",
    "print(z.size())\n",
    "\n",
    "z = torch.cat([x, x, x], dim=0)\n",
    "\n",
    "print(x)\n",
    "print(x.size())\n",
    "print(z)\n",
    "print(z.size())\n"
   ]
  },
  {
   "cell_type": "markdown",
   "metadata": {
    "pycharm": {
     "name": "#%% md\n"
    }
   },
   "source": [
    "### randperm: Random Permutation"
   ]
  },
  {
   "cell_type": "code",
   "execution_count": 18,
   "metadata": {
    "pycharm": {
     "name": "#%%\n"
    }
   },
   "outputs": [
    {
     "name": "stdout",
     "output_type": "stream",
     "text": [
      "tensor([7, 3, 1, 9, 8, 2, 5, 0, 6, 4])\n",
      "torch.Size([10])\n"
     ]
    }
   ],
   "source": [
    "x = torch.randperm(10)\n",
    "\n",
    "print(x)\n",
    "print(x.size())"
   ]
  },
  {
   "cell_type": "markdown",
   "metadata": {
    "pycharm": {
     "name": "#%% md\n"
    }
   },
   "source": [
    "### argmax: Return index of maximum values"
   ]
  },
  {
   "cell_type": "code",
   "execution_count": 81,
   "metadata": {
    "scrolled": true,
    "pycharm": {
     "name": "#%%\n"
    }
   },
   "outputs": [
    {
     "name": "stdout",
     "output_type": "stream",
     "text": [
      "tensor([[[25, 18,  7],\n",
      "         [ 5, 23,  2],\n",
      "         [16, 15, 17]],\n",
      "\n",
      "        [[ 4, 12, 19],\n",
      "         [ 1, 20, 22],\n",
      "         [10,  8, 26]],\n",
      "\n",
      "        [[ 3,  9, 14],\n",
      "         [13,  6, 24],\n",
      "         [21,  0, 11]]])\n",
      "torch.Size([3, 3, 3])\n"
     ]
    }
   ],
   "source": [
    "x = torch.randperm(3**3).reshape(3, 3, -1)\n",
    "print(x)\n",
    "print(x.size())"
   ]
  },
  {
   "cell_type": "code",
   "execution_count": null,
   "metadata": {
    "pycharm": {
     "name": "#%%\n",
     "is_executing": true
    }
   },
   "outputs": [],
   "source": [
    "y = x.argmax(dim=-1)\n",
    "\n",
    "print(y)\n",
    "print(y.size())"
   ]
  },
  {
   "cell_type": "markdown",
   "metadata": {
    "pycharm": {
     "name": "#%% md\n"
    }
   },
   "source": [
    "### topk: Return tuple of top-k values and indices."
   ]
  },
  {
   "cell_type": "code",
   "execution_count": null,
   "metadata": {
    "scrolled": false,
    "pycharm": {
     "name": "#%%\n",
     "is_executing": true
    }
   },
   "outputs": [],
   "source": [
    "values, indices = torch.topk(x, k=1, dim=-1)\n",
    "\n",
    "print(values)\n",
    "print(values.size())\n",
    "print(indices)\n",
    "print(indices.size())"
   ]
  },
  {
   "cell_type": "markdown",
   "metadata": {
    "pycharm": {
     "name": "#%% md\n"
    }
   },
   "source": [
    "Note that topk didn't reduce the dimension, even in $k=1$ case."
   ]
  },
  {
   "cell_type": "code",
   "execution_count": null,
   "metadata": {
    "pycharm": {
     "name": "#%%\n",
     "is_executing": true
    }
   },
   "outputs": [],
   "source": [
    "print(values.squeeze(-1))\n",
    "print(values.squeeze(-1).size())\n",
    "print(indices.squeeze(-1))\n",
    "print(indices.squeeze(-1).size())"
   ]
  },
  {
   "cell_type": "code",
   "execution_count": null,
   "metadata": {
    "pycharm": {
     "name": "#%%\n",
     "is_executing": true
    }
   },
   "outputs": [],
   "source": [
    "print(x.argmax(dim=-1))\n",
    "print(indices.squeeze(-1))\n",
    "print(x.argmax(dim=-1) == indices.squeeze(-1))\n",
    "\n",
    "print(x.argmax(dim=-1).size())\n",
    "print(indices)\n",
    "print(x.argmax(dim=-1) == indices)"
   ]
  },
  {
   "cell_type": "code",
   "execution_count": 93,
   "metadata": {
    "pycharm": {
     "name": "#%%\n"
    }
   },
   "outputs": [
    {
     "name": "stdout",
     "output_type": "stream",
     "text": [
      "tensor([[[25, 18,  7],\n",
      "         [ 5, 23,  2],\n",
      "         [16, 15, 17]],\n",
      "\n",
      "        [[ 4, 12, 19],\n",
      "         [ 1, 20, 22],\n",
      "         [10,  8, 26]],\n",
      "\n",
      "        [[ 3,  9, 14],\n",
      "         [13,  6, 24],\n",
      "         [21,  0, 11]]])\n",
      "tensor([[0, 1, 2],\n",
      "        [2, 2, 2],\n",
      "        [2, 2, 0]])\n",
      "torch.Size([3, 3])\n",
      "tensor([[[0, 1],\n",
      "         [1, 0],\n",
      "         [2, 0]],\n",
      "\n",
      "        [[2, 1],\n",
      "         [2, 1],\n",
      "         [2, 0]],\n",
      "\n",
      "        [[2, 1],\n",
      "         [2, 0],\n",
      "         [0, 2]]])\n",
      "torch.Size([3, 3, 2])\n",
      "tensor([[0, 1, 2],\n",
      "        [2, 2, 2],\n",
      "        [2, 2, 0]])\n",
      "tensor([[True, True, True],\n",
      "        [True, True, True],\n",
      "        [True, True, True]])\n"
     ]
    }
   ],
   "source": [
    "_, indices = torch.topk(x, k=2, dim=-1)\n",
    "print(x)\n",
    "print(x.argmax(dim=-1))\n",
    "print(x.argmax(dim=-1).size())\n",
    "print(indices)\n",
    "print(indices.size())\n",
    "print(indices[:, :, 0])\n",
    "print(x.argmax(dim=-1) == indices[:, :, 0])"
   ]
  },
  {
   "cell_type": "markdown",
   "metadata": {
    "pycharm": {
     "name": "#%% md\n"
    }
   },
   "source": [
    "### Sort by using topk"
   ]
  },
  {
   "cell_type": "code",
   "execution_count": 94,
   "metadata": {
    "pycharm": {
     "name": "#%%\n"
    }
   },
   "outputs": [
    {
     "name": "stdout",
     "output_type": "stream",
     "text": [
      "tensor([[[25, 18,  7],\n",
      "         [23,  5,  2],\n",
      "         [17, 16, 15]],\n",
      "\n",
      "        [[19, 12,  4],\n",
      "         [22, 20,  1],\n",
      "         [26, 10,  8]],\n",
      "\n",
      "        [[14,  9,  3],\n",
      "         [24, 13,  6],\n",
      "         [21, 11,  0]]])\n"
     ]
    }
   ],
   "source": [
    "\n",
    "target_dim = -1\n",
    "\n",
    "values, indices = torch.topk(x,\n",
    "                             k=x.size(target_dim),\n",
    "                             largest=True)\n",
    "\n",
    "print(values)\n"
   ]
  },
  {
   "cell_type": "markdown",
   "metadata": {
    "pycharm": {
     "name": "#%% md\n"
    }
   },
   "source": [
    "### Topk by using sort"
   ]
  },
  {
   "cell_type": "code",
   "execution_count": 121,
   "outputs": [
    {
     "name": "stdout",
     "output_type": "stream",
     "text": [
      "tensor([[[25, 18,  7],\n",
      "         [ 5, 23,  2],\n",
      "         [16, 15, 17]],\n",
      "\n",
      "        [[ 4, 12, 19],\n",
      "         [ 1, 20, 22],\n",
      "         [10,  8, 26]],\n",
      "\n",
      "        [[ 3,  9, 14],\n",
      "         [13,  6, 24],\n",
      "         [21,  0, 11]]])\n",
      "tensor([[18, 23, 15],\n",
      "        [12, 20,  8],\n",
      "        [ 9,  6,  0]])\n"
     ]
    }
   ],
   "source": [
    "print(x)\n",
    "print(x[:,:,1])"
   ],
   "metadata": {
    "collapsed": false,
    "pycharm": {
     "name": "#%%\n"
    }
   }
  },
  {
   "cell_type": "code",
   "execution_count": 134,
   "metadata": {
    "pycharm": {
     "name": "#%%\n"
    }
   },
   "outputs": [
    {
     "name": "stdout",
     "output_type": "stream",
     "text": [
      "tensor([[[25, 18,  7],\n",
      "         [23,  5,  2],\n",
      "         [17, 16, 15]],\n",
      "\n",
      "        [[19, 12,  4],\n",
      "         [22, 20,  1],\n",
      "         [26, 10,  8]],\n",
      "\n",
      "        [[14,  9,  3],\n",
      "         [24, 13,  6],\n",
      "         [21, 11,  0]]])\n",
      "tensor([[[25, 18],\n",
      "         [23,  5],\n",
      "         [17, 16]],\n",
      "\n",
      "        [[19, 12],\n",
      "         [22, 20],\n",
      "         [26, 10]],\n",
      "\n",
      "        [[14,  9],\n",
      "         [24, 13],\n",
      "         [21, 11]]])\n"
     ]
    }
   ],
   "source": [
    "k=1\n",
    "#print(x)\n",
    "values, indices = torch.sort(x, dim=-1, descending=True)\n",
    "print(values)\n",
    "#print(indices)\n",
    "#print(values[:, :, :1])\n",
    "print(values[:, :, :2].squeeze())\n",
    "\n",
    "values, indices = values[:, :, :k], indices[:, :, :k]\n",
    "#print(values.squeeze(-1))\n",
    "#print(indices.squeeze(-1))"
   ]
  },
  {
   "cell_type": "markdown",
   "metadata": {
    "pycharm": {
     "name": "#%% md\n"
    }
   },
   "source": [
    "### masked_fill: fill the value if element of mask is True."
   ]
  },
  {
   "cell_type": "code",
   "execution_count": null,
   "metadata": {
    "pycharm": {
     "name": "#%%\n"
    }
   },
   "outputs": [],
   "source": [
    "x = torch.FloatTensor([i for i in range(3**2)]).reshape(3, -1)\n",
    "\n",
    "print(x)\n",
    "print(x.size())"
   ]
  },
  {
   "cell_type": "code",
   "execution_count": null,
   "metadata": {
    "pycharm": {
     "name": "#%%\n"
    }
   },
   "outputs": [],
   "source": [
    "mask = x > 4\n",
    "\n",
    "print(mask)"
   ]
  },
  {
   "cell_type": "code",
   "execution_count": null,
   "metadata": {
    "pycharm": {
     "name": "#%%\n"
    }
   },
   "outputs": [],
   "source": [
    "y = x.masked_fill(mask, value=-1)\n",
    "\n",
    "print(y)"
   ]
  },
  {
   "cell_type": "markdown",
   "metadata": {
    "pycharm": {
     "name": "#%% md\n"
    }
   },
   "source": [
    "### Ones and Zeros"
   ]
  },
  {
   "cell_type": "code",
   "execution_count": null,
   "metadata": {
    "pycharm": {
     "name": "#%%\n"
    }
   },
   "outputs": [],
   "source": [
    "print(torch.ones(2, 3))\n",
    "print(torch.zeros(2, 3))"
   ]
  },
  {
   "cell_type": "code",
   "execution_count": null,
   "metadata": {
    "pycharm": {
     "name": "#%%\n"
    }
   },
   "outputs": [],
   "source": [
    "x = torch.FloatTensor([[1, 2, 3],\n",
    "                       [4, 5, 6]])\n",
    "print(x.size())"
   ]
  },
  {
   "cell_type": "code",
   "execution_count": null,
   "metadata": {
    "pycharm": {
     "name": "#%%\n"
    }
   },
   "outputs": [],
   "source": [
    "print(torch.ones_like(x))\n",
    "print(torch.zeros_like(x))"
   ]
  }
 ],
 "metadata": {
  "kernelspec": {
   "display_name": "Python 3",
   "language": "python",
   "name": "python3"
  },
  "language_info": {
   "codemirror_mode": {
    "name": "ipython",
    "version": 3
   },
   "file_extension": ".py",
   "mimetype": "text/x-python",
   "name": "python",
   "nbconvert_exporter": "python",
   "pygments_lexer": "ipython3",
   "version": "3.7.6"
  }
 },
 "nbformat": 4,
 "nbformat_minor": 2
}