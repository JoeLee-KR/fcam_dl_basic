{
 "cells": [
  {
   "cell_type": "markdown",
   "source": [
    "#### Linear Regression Test by Math\n",
    " % matplot inline        > for only jupyternotebook, not need at pycharm"
   ],
   "metadata": {
    "collapsed": false,
    "pycharm": {
     "name": "#%% md\n"
    }
   }
  },
  {
   "cell_type": "code",
   "execution_count": 1,
   "outputs": [
    {
     "data": {
      "text/plain": "<Figure size 432x288 with 1 Axes>",
      "image/png": "[encoded data removed]"
     },
     "metadata": {},
     "output_type": "display_data"
    },
    {
     "name": "stdout",
     "output_type": "stream",
     "text": [
      "LinregressResult(slope=1.0, intercept=0.0, rvalue=1.0, pvalue=1.2004217548761408e-30, stderr=0.0, intercept_stderr=0.0)\n"
     ]
    }
   ],
   "source": [
    "# 이하 코드는 아래의 출처를 참고로 하여 작성하였습니다\n",
    "# 출처: scipy 공식 문서(https://docs.scipy.org/doc/scipy/reference/generated/scipy.stats.linregress.html)\n",
    "\n",
    "# import libraries\n",
    "import numpy as np\n",
    "from scipy import stats\n",
    "import matplotlib.pyplot as plt\n",
    "import seaborn as sns\n",
    "# % matplotlib inline\n",
    "\n",
    "# 샘플데이터, 결과는 뭘로 예상됩니까?\n",
    "A = np.array([1,2,3,4,5])\n",
    "B = np.array([1,2,3,4,5])\n",
    "\n",
    "#선형회귀 결과\n",
    "slope, intercept, r_value, p_value, std_err = stats.linregress(A,B)\n",
    "result = stats.linregress(A,B)\n",
    "\n",
    "# 시각화\n",
    "plt.plot(A, B, 'o', label='original data')\n",
    "plt.plot(A, intercept + slope*A, 'r', label='fitted line')\n",
    "plt.legend()\n",
    "plt.show()\n",
    "print(result)"
   ],
   "metadata": {
    "collapsed": false,
    "pycharm": {
     "name": "#%%\n"
    }
   }
  },
  {
   "cell_type": "markdown",
   "source": [
    "#### Linear Regression Test by ML"
   ],
   "metadata": {
    "collapsed": false,
    "pycharm": {
     "name": "#%% md\n"
    }
   }
  },
  {
   "cell_type": "code",
   "execution_count": 3,
   "outputs": [
    {
     "ename": "ModuleNotFoundError",
     "evalue": "No module named 'tensorflow'",
     "output_type": "error",
     "traceback": [
      "\u001B[0;31m---------------------------------------------------------------------------\u001B[0m",
      "\u001B[0;31mModuleNotFoundError\u001B[0m                       Traceback (most recent call last)",
      "Input \u001B[0;32mIn [3]\u001B[0m, in \u001B[0;36m<cell line: 8>\u001B[0;34m()\u001B[0m\n\u001B[1;32m      1\u001B[0m \u001B[38;5;66;03m# 이하 코드는 아래의 출처를 참고로 하여 작성하였습니다\u001B[39;00m\n\u001B[1;32m      2\u001B[0m \u001B[38;5;66;03m# 출처: 모두를 위한 머신러닝(https://hunkim.github.io/ml/)\u001B[39;00m\n\u001B[1;32m      3\u001B[0m \u001B[38;5;66;03m# tensorflow 버전이 업데이트 됨에 따라 tensorflow import 부분 수정 진행하였습니다(2020.05.21)\u001B[39;00m\n\u001B[0;32m   (...)\u001B[0m\n\u001B[1;32m      6\u001B[0m \u001B[38;5;66;03m# 무슨말인지 이해 못하셔도 좋습니다\u001B[39;00m\n\u001B[1;32m      7\u001B[0m \u001B[38;5;66;03m# for tensorflow 1.x on tensorflow 2.0\u001B[39;00m\n\u001B[0;32m----> 8\u001B[0m \u001B[38;5;28;01mimport\u001B[39;00m \u001B[38;5;21;01mtensorflow\u001B[39;00m\u001B[38;5;21;01m.\u001B[39;00m\u001B[38;5;21;01mcompat\u001B[39;00m\u001B[38;5;21;01m.\u001B[39;00m\u001B[38;5;21;01mv1\u001B[39;00m \u001B[38;5;28;01mas\u001B[39;00m \u001B[38;5;21;01mtf\u001B[39;00m\n\u001B[1;32m      9\u001B[0m tf\u001B[38;5;241m.\u001B[39mdisable_v2_behavior()\n\u001B[1;32m     11\u001B[0m \u001B[38;5;66;03m# 학습도구 : 예제 데이터\u001B[39;00m\n",
      "\u001B[0;31mModuleNotFoundError\u001B[0m: No module named 'tensorflow'"
     ]
    }
   ],
   "source": [
    "# 이하 코드는 아래의 출처를 참고로 하여 작성하였습니다\n",
    "# 출처: 모두를 위한 머신러닝(https://hunkim.github.io/ml/)\n",
    "# tensorflow 버전이 업데이트 됨에 따라 tensorflow import 부분 수정 진행하였습니다(2020.05.21)\n",
    "\n",
    "# 기계학습용 라이브러리인 텐서플로를 임포트 합니다.\n",
    "# 무슨말인지 이해 못하셔도 좋습니다\n",
    "# for tensorflow 1.x on tensorflow 2.0\n",
    "import tensorflow.compat.v1 as tf\n",
    "tf.disable_v2_behavior()\n",
    "\n",
    "# 학습도구 : 예제 데이터\n",
    "X_data = [1, 2, 3, 4, 5]\n",
    "Y_data = [1, 2, 3, 4, 5]\n",
    "\n",
    "# parameter : 기울기(slope)와 Y절편(intercept)\n",
    "A = tf.Variable(tf.random_normal([1]), name='slope')\n",
    "B = tf.Variable(tf.random_normal([1]), name='intercept')\n",
    "\n",
    "# 플레이스 홀더 선언. 지금은 뭔지 몰라도 됩니다\n",
    "X = tf.placeholder(tf.float32, shape=[None])\n",
    "Y = tf.placeholder(tf.float32, shape=[None])\n",
    "\n",
    "# 어떤 모델 만들겁니까? 네 단순선형회귀니까 1차방정식\n",
    "model = X * A + B\n",
    "\n",
    "# 학습을 진행하려면 내가 현재까지 얼마나 틀리고 있는지 알아야 합니다.\n",
    "# 그 틀린정도를 머신러닝에서는 cost(또는 loss) 라고 부릅니다. 이걸 정해줘야 학습을 하죠?\n",
    "# 이 아래 의미는 뭘까요?\n",
    "cost = tf.reduce_mean(tf.square(model - Y))\n",
    "\n",
    "# 틀린정도를 최소화 하도록 합니다. 경사하강 알고리즘을 사용합니다.\n",
    "optimizer = tf.train.GradientDescentOptimizer(learning_rate=0.01)\n",
    "train = optimizer.minimize(cost)\n",
    "\n",
    "# 세션을 키고 초기화합니다. 지금은 이게 뭔지 모르셔도 됩니다\n",
    "sess = tf.Session()\n",
    "sess.run(tf.global_variables_initializer())\n",
    "\n",
    "# 반복문을 돌리기 위해 변수를 선언해 둡니다. 이부분도 여러분들이 지금은 모르셔도 됩니다\n",
    "run_cost = []\n",
    "run_weight = []\n",
    "run_bias = []\n",
    "\n",
    "# 자. 학습을 시켜 보겠습니다.\n",
    "# 아래 range(2001) 이라고 되어있는거 보이시죠? 이게 학습 횟수입니다.\n",
    "# 스스로 최적화 하여 parmeter를 최적화하는걸 보실수 있습니다. 결과가 이해 되시나요?\n",
    "for step in range(2001):\n",
    "  run_cost, run_weight, run_bias, f_data = sess.run([cost, A, B, train], feed_dict={X: X_data, Y: Y_data})\n",
    "  if step % 200 == 0:\n",
    "    print('학습횟수:',' ',step,' ','오차(cost):',run_cost,' ','기울기:', run_weight,' ','Y절편:', run_bias)"
   ],
   "metadata": {
    "collapsed": false,
    "pycharm": {
     "name": "#%%\n"
    }
   }
  },
  {
   "cell_type": "code",
   "execution_count": null,
   "outputs": [],
   "source": [],
   "metadata": {
    "collapsed": false,
    "pycharm": {
     "name": "#%%\n"
    }
   }
  }
 ],
 "metadata": {
  "kernelspec": {
   "display_name": "Python 3",
   "language": "python",
   "name": "python3"
  },
  "language_info": {
   "codemirror_mode": {
    "name": "ipython",
    "version": 2
   },
   "file_extension": ".py",
   "mimetype": "text/x-python",
   "name": "python",
   "nbconvert_exporter": "python",
   "pygments_lexer": "ipython2",
   "version": "2.7.6"
  }
 },
 "nbformat": 4,
 "nbformat_minor": 0
}