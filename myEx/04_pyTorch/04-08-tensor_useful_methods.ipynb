{
 "cells": [
  {
   "cell_type": "markdown",
   "metadata": {
    "pycharm": {
     "name": "#%% md\n"
    }
   },
   "source": [
    "# PyTorch Useful Methods"
   ]
  },
  {
   "cell_type": "code",
   "execution_count": null,
   "metadata": {
    "pycharm": {
     "name": "#%%\n"
    }
   },
   "outputs": [],
   "source": [
    "import torch"
   ]
  },
  {
   "cell_type": "markdown",
   "metadata": {
    "pycharm": {
     "name": "#%% md\n"
    }
   },
   "source": [
    "### expand: copy the given tensor and concat those at desired dimension."
   ]
  },
  {
   "cell_type": "code",
   "execution_count": null,
   "metadata": {
    "pycharm": {
     "name": "#%%\n"
    }
   },
   "outputs": [],
   "source": [
    "x = torch.FloatTensor([[[1, 2]],\n",
    "                       [[3, 4]]])\n",
    "print(x)\n",
    "print(x.size())"
   ]
  },
  {
   "cell_type": "code",
<<<<<<< HEAD
   "execution_count": null,
=======
   "execution_count": 3,
>>>>>>> 40e247af4d997e72e0519ac435c3d5f826f6c522
   "metadata": {
    "pycharm": {
     "name": "#%%\n"
    }
   },
   "outputs": [],
   "source": [
    "y = x.expand(*[2, 3, 2])\n",
    "\n",
    "print(y)\n",
    "print(y.size())"
   ]
  },
  {
   "cell_type": "markdown",
   "metadata": {
    "pycharm": {
     "name": "#%% md\n"
    }
   },
   "source": [
    "#### Implement expand with cat."
   ]
  },
  {
   "cell_type": "code",
<<<<<<< HEAD
   "execution_count": null,
=======
   "execution_count": 4,
>>>>>>> 40e247af4d997e72e0519ac435c3d5f826f6c522
   "metadata": {
    "pycharm": {
     "name": "#%%\n"
    }
   },
   "outputs": [],
   "source": [
    "z = torch.cat([x, x, x], dim=1)\n",
    "\n",
    "print(z)\n",
    "print(z.size())\n",
    "\n",
    "z = torch.cat([x, x, x], dim=0)\n",
    "\n",
    "print(x)\n",
    "print(x.size())\n",
    "print(z)\n",
    "print(z.size())\n"
   ]
  },
  {
   "cell_type": "markdown",
   "metadata": {
    "pycharm": {
     "name": "#%% md\n"
    }
   },
   "source": [
    "### randperm: Random Permutation"
   ]
  },
  {
   "cell_type": "code",
<<<<<<< HEAD
   "execution_count": null,
=======
   "execution_count": 5,
>>>>>>> 40e247af4d997e72e0519ac435c3d5f826f6c522
   "metadata": {
    "pycharm": {
     "name": "#%%\n"
    }
   },
<<<<<<< HEAD
   "outputs": [],
=======
   "outputs": [
    {
     "name": "stdout",
     "output_type": "stream",
     "text": [
      "tensor([1, 4, 8, 6, 3, 2, 5, 9, 7, 0])\n",
      "torch.Size([10])\n"
     ]
    }
   ],
>>>>>>> 40e247af4d997e72e0519ac435c3d5f826f6c522
   "source": [
    "x = torch.randperm(10)\n",
    "\n",
    "print(x)\n",
    "print(x.size())"
   ]
  },
  {
   "cell_type": "markdown",
   "metadata": {
    "pycharm": {
     "name": "#%% md\n"
    }
   },
   "source": [
    "### argmax: Return index of maximum values"
   ]
  },
  {
   "cell_type": "code",
<<<<<<< HEAD
   "execution_count": 9,
=======
   "execution_count": 6,
>>>>>>> 40e247af4d997e72e0519ac435c3d5f826f6c522
   "metadata": {
    "scrolled": true,
    "pycharm": {
     "name": "#%%\n"
    }
   },
   "outputs": [
    {
     "name": "stdout",
     "output_type": "stream",
     "text": [
<<<<<<< HEAD
      "tensor([[[14, 22, 17],\n",
      "         [ 3, 18, 21],\n",
      "         [ 9,  0, 12]],\n",
      "\n",
      "        [[25, 20, 11],\n",
      "         [19, 23,  2],\n",
      "         [15, 16,  8]],\n",
      "\n",
      "        [[26,  1, 13],\n",
      "         [ 7,  6, 10],\n",
      "         [ 5,  4, 24]]])\n",
=======
      "tensor([[[11, 19, 21],\n",
      "         [17,  9, 18],\n",
      "         [25, 13, 24]],\n",
      "\n",
      "        [[ 3,  0,  8],\n",
      "         [ 1, 16,  6],\n",
      "         [ 2, 23, 14]],\n",
      "\n",
      "        [[22, 12, 20],\n",
      "         [ 7, 26, 10],\n",
      "         [15,  5,  4]]])\n",
>>>>>>> 40e247af4d997e72e0519ac435c3d5f826f6c522
      "torch.Size([3, 3, 3])\n"
     ]
    }
   ],
   "source": [
    "x = torch.randperm(3**3).reshape(3, 3, -1)\n",
    "print(x)\n",
    "print(x.size())"
   ]
  },
  {
   "cell_type": "code",
<<<<<<< HEAD
   "execution_count": 20,
=======
   "execution_count": 7,
>>>>>>> 40e247af4d997e72e0519ac435c3d5f826f6c522
   "metadata": {
    "pycharm": {
     "name": "#%%\n"
    }
   },
   "outputs": [
    {
     "name": "stdout",
     "output_type": "stream",
     "text": [
<<<<<<< HEAD
      "tensor([[1, 2, 2],\n",
      "        [0, 1, 1],\n",
      "        [0, 2, 2]])\n",
=======
      "tensor([[2, 2, 0],\n",
      "        [2, 1, 1],\n",
      "        [0, 1, 0]])\n",
>>>>>>> 40e247af4d997e72e0519ac435c3d5f826f6c522
      "torch.Size([3, 3])\n"
     ]
    }
   ],
   "source": [
    "y = x.argmax(dim=-1)\n",
    "\n",
    "print(y)\n",
    "print(y.size())"
   ]
  },
  {
   "cell_type": "markdown",
   "metadata": {
    "pycharm": {
     "name": "#%% md\n"
    }
   },
   "source": [
    "### topk: Return tuple of top-k values and indices."
   ]
  },
  {
   "cell_type": "code",
<<<<<<< HEAD
   "execution_count": 62,
=======
   "execution_count": 8,
>>>>>>> 40e247af4d997e72e0519ac435c3d5f826f6c522
   "metadata": {
    "scrolled": false,
    "pycharm": {
     "name": "#%%\n"
    }
   },
   "outputs": [
    {
     "name": "stdout",
     "output_type": "stream",
     "text": [
<<<<<<< HEAD
      "tensor([[22, 21, 12],\n",
      "        [25, 23, 16],\n",
      "        [26, 10, 24]])\n",
      "torch.Size([3, 3, 1])\n",
      "tensor([[1, 2, 2],\n",
      "        [0, 1, 1],\n",
      "        [0, 2, 2]])\n",
=======
      "tensor([[[21],\n",
      "         [18],\n",
      "         [25]],\n",
      "\n",
      "        [[ 8],\n",
      "         [16],\n",
      "         [23]],\n",
      "\n",
      "        [[22],\n",
      "         [26],\n",
      "         [15]]])\n",
      "torch.Size([3, 3, 1])\n",
      "tensor([[[2],\n",
      "         [2],\n",
      "         [0]],\n",
      "\n",
      "        [[2],\n",
      "         [1],\n",
      "         [1]],\n",
      "\n",
      "        [[0],\n",
      "         [1],\n",
      "         [0]]])\n",
>>>>>>> 40e247af4d997e72e0519ac435c3d5f826f6c522
      "torch.Size([3, 3, 1])\n"
     ]
    }
   ],
   "source": [
    "values, indices = torch.topk(x, k=1, dim=-1)\n",
    "\n",
    "print(values.squeeze())\n",
    "print(values.size())\n",
    "print(indices.squeeze())\n",
    "print(indices.size())"
   ]
  },
  {
   "cell_type": "markdown",
   "metadata": {
    "pycharm": {
     "name": "#%% md\n"
    }
   },
   "source": [
    "Note that topk didn't reduce the dimension, even in $k=1$ case."
   ]
  },
  {
   "cell_type": "code",
   "execution_count": 9,
   "metadata": {
    "pycharm": {
     "name": "#%%\n"
    }
   },
   "outputs": [
    {
     "name": "stdout",
     "output_type": "stream",
     "text": [
      "tensor([[21, 18, 25],\n",
      "        [ 8, 16, 23],\n",
      "        [22, 26, 15]])\n",
      "torch.Size([3, 3])\n",
      "tensor([[2, 2, 0],\n",
      "        [2, 1, 1],\n",
      "        [0, 1, 0]])\n",
      "torch.Size([3, 3])\n"
     ]
    }
   ],
   "source": [
    "print(values.squeeze(-1))\n",
    "print(values.squeeze(-1).size())\n",
    "print(indices.squeeze(-1))\n",
    "print(indices.squeeze(-1).size())"
   ]
  },
  {
   "cell_type": "code",
   "execution_count": 10,
   "metadata": {
    "pycharm": {
     "name": "#%%\n"
    }
   },
   "outputs": [
    {
     "name": "stdout",
     "output_type": "stream",
     "text": [
      "tensor([[2, 2, 0],\n",
      "        [2, 1, 1],\n",
      "        [0, 1, 0]])\n",
      "tensor([[2, 2, 0],\n",
      "        [2, 1, 1],\n",
      "        [0, 1, 0]])\n",
      "tensor([[True, True, True],\n",
      "        [True, True, True],\n",
      "        [True, True, True]])\n",
      "torch.Size([3, 3])\n",
      "tensor([[[2],\n",
      "         [2],\n",
      "         [0]],\n",
      "\n",
      "        [[2],\n",
      "         [1],\n",
      "         [1]],\n",
      "\n",
      "        [[0],\n",
      "         [1],\n",
      "         [0]]])\n",
      "tensor([[[ True,  True, False],\n",
      "         [ True, False, False],\n",
      "         [ True, False,  True]],\n",
      "\n",
      "        [[ True,  True, False],\n",
      "         [False,  True,  True],\n",
      "         [False,  True, False]],\n",
      "\n",
      "        [[False, False,  True],\n",
      "         [False,  True,  True],\n",
      "         [ True, False,  True]]])\n"
     ]
    }
   ],
   "source": [
    "print(x.argmax(dim=-1))\n",
    "print(x.argmax(dim=-1).size())\n",
    "print(indices.squeeze(-1))\n",
    "print(indices.size())\n",
    "print(indices.squeeze(-1).size())\n",
    "print(x.argmax(dim=-1) == indices.squeeze(-1))"
   ]
  },
  {
   "cell_type": "code",
<<<<<<< HEAD
   "execution_count": null,
=======
   "execution_count": 16,
>>>>>>> 40e247af4d997e72e0519ac435c3d5f826f6c522
   "metadata": {
    "pycharm": {
     "name": "#%%\n",
     "is_executing": true
    }
   },
<<<<<<< HEAD
   "outputs": [],
   "source": [
    "_, indices = torch.topk(x, k=2, dim=-1)\n",
    "\n",
    "# indices has (3,3,2)\n",
    "print(indices)\n",
    "print(indices.size())\n",
    "print(indices.squeeze(-1))\n",
    "print(indices.squeeze(-1).size())\n",
    "\n",
    "# therefore, manipulate as 1, result is (3,3)\n",
    "print(indices[:,:, 0])\n",
    "print(indices[:,:, 0].size())\n",
=======
   "outputs": [
    {
     "name": "stdout",
     "output_type": "stream",
     "text": [
      "tensor([[[11, 19, 21],\n",
      "         [17,  9, 18],\n",
      "         [25, 13, 24]],\n",
      "\n",
      "        [[ 3,  0,  8],\n",
      "         [ 1, 16,  6],\n",
      "         [ 2, 23, 14]],\n",
      "\n",
      "        [[22, 12, 20],\n",
      "         [ 7, 26, 10],\n",
      "         [15,  5,  4]]])\n",
      "tensor([[2, 2, 0],\n",
      "        [2, 1, 1],\n",
      "        [0, 1, 0]])\n",
      "torch.Size([3, 3])\n",
      "===\n",
      "+++++++++++++++\n",
      "tensor([[[2, 1],\n",
      "         [2, 0],\n",
      "         [0, 2]],\n",
      "\n",
      "        [[2, 0],\n",
      "         [1, 2],\n",
      "         [1, 2]],\n",
      "\n",
      "        [[0, 2],\n",
      "         [1, 2],\n",
      "         [0, 1]]])\n",
      "torch.Size([3, 3, 2])\n",
      "1st tuple: tensor([[2, 2, 0],\n",
      "        [2, 1, 1],\n",
      "        [0, 1, 0]])\n",
      "tensor([[1, 0, 2],\n",
      "        [0, 2, 2],\n",
      "        [2, 2, 1]])\n",
      "tensor([[True, True, True],\n",
      "        [True, True, True],\n",
      "        [True, True, True]])\n"
     ]
    }
   ],
   "source": [
    "\n",
    "print(x)\n",
    "print(x.argmax(dim=-1))\n",
    "print(x.argmax(dim=-1).size())\n",
    "print(\"===\")\n",
    "\n",
    "print(\"+++++++++++++++\")\n",
    "_, indices = torch.topk(x, k=2, dim=-1)\n",
    "print(indices)\n",
    "print(indices.size())\n",
    "print(\"1st tuple of indices:\", indices[:, :, 0])\n",
    "print(\"2nd tuple of indices:\", indices[:, :, 1])\n",
>>>>>>> 40e247af4d997e72e0519ac435c3d5f826f6c522
    "print(x.argmax(dim=-1) == indices[:, :, 0])"
   ]
  },
  {
   "cell_type": "markdown",
   "metadata": {
    "pycharm": {
     "name": "#%% md\n"
    }
   },
   "source": [
    "### Sort by using topk"
   ]
  },
  {
   "cell_type": "code",
<<<<<<< HEAD
   "execution_count": 72,
=======
   "execution_count": 18,
>>>>>>> 40e247af4d997e72e0519ac435c3d5f826f6c522
   "metadata": {
    "pycharm": {
     "name": "#%%\n"
    }
   },
   "outputs": [
    {
     "name": "stdout",
     "output_type": "stream",
     "text": [
<<<<<<< HEAD
      "tensor([[[14, 22, 17],\n",
      "         [ 3, 18, 21],\n",
      "         [ 9,  0, 12]],\n",
      "\n",
      "        [[25, 20, 11],\n",
      "         [19, 23,  2],\n",
      "         [15, 16,  8]],\n",
      "\n",
      "        [[26,  1, 13],\n",
      "         [ 7,  6, 10],\n",
      "         [ 5,  4, 24]]])\n",
      "tensor([[[22, 17, 14],\n",
      "         [21, 18,  3],\n",
      "         [12,  9,  0]],\n",
      "\n",
      "        [[25, 20, 11],\n",
      "         [23, 19,  2],\n",
      "         [16, 15,  8]],\n",
      "\n",
      "        [[26, 13,  1],\n",
      "         [10,  7,  6],\n",
      "         [24,  5,  4]]])\n",
      "tensor([[[1, 2, 0],\n",
      "         [2, 1, 0],\n",
      "         [2, 0, 1]],\n",
      "\n",
      "        [[0, 1, 2],\n",
      "         [1, 0, 2],\n",
      "         [1, 0, 2]],\n",
      "\n",
      "        [[0, 2, 1],\n",
      "         [2, 0, 1],\n",
      "         [2, 0, 1]]])\n"
=======
      "tensor([[[21, 19, 11],\n",
      "         [18, 17,  9],\n",
      "         [25, 24, 13]],\n",
      "\n",
      "        [[ 8,  3,  0],\n",
      "         [16,  6,  1],\n",
      "         [23, 14,  2]],\n",
      "\n",
      "        [[22, 20, 12],\n",
      "         [26, 10,  7],\n",
      "         [15,  5,  4]]])\n",
      "tensor([[[2, 1, 0],\n",
      "         [2, 0, 1],\n",
      "         [0, 2, 1]],\n",
      "\n",
      "        [[2, 0, 1],\n",
      "         [1, 2, 0],\n",
      "         [1, 2, 0]],\n",
      "\n",
      "        [[0, 2, 1],\n",
      "         [1, 2, 0],\n",
      "         [0, 1, 2]]])\n"
>>>>>>> 40e247af4d997e72e0519ac435c3d5f826f6c522
     ]
    }
   ],
   "source": [
    "print(x)\n",
    "target_dim = -1\n",
    "\n",
    "values, indices = torch.topk(x,\n",
    "                             k=x.size(target_dim),\n",
    "                             largest=True)\n",
    "\n",
    "print(values)\n",
<<<<<<< HEAD
    "print(indices)"
=======
    "print(indices)\n"
>>>>>>> 40e247af4d997e72e0519ac435c3d5f826f6c522
   ]
  },
  {
   "cell_type": "markdown",
   "metadata": {
    "pycharm": {
     "name": "#%% md\n"
    }
   },
   "source": [
    "### Topk by using sort"
   ]
  },
  {
   "cell_type": "code",
<<<<<<< HEAD
   "execution_count": null,
   "outputs": [],
=======
   "execution_count": 19,
   "outputs": [
    {
     "name": "stdout",
     "output_type": "stream",
     "text": [
      "tensor([[[11, 19, 21],\n",
      "         [17,  9, 18],\n",
      "         [25, 13, 24]],\n",
      "\n",
      "        [[ 3,  0,  8],\n",
      "         [ 1, 16,  6],\n",
      "         [ 2, 23, 14]],\n",
      "\n",
      "        [[22, 12, 20],\n",
      "         [ 7, 26, 10],\n",
      "         [15,  5,  4]]])\n",
      "tensor([[19,  9, 13],\n",
      "        [ 0, 16, 23],\n",
      "        [12, 26,  5]])\n"
     ]
    }
   ],
>>>>>>> 40e247af4d997e72e0519ac435c3d5f826f6c522
   "source": [
    "print(x)"
   ],
   "metadata": {
    "collapsed": false,
    "pycharm": {
     "name": "#%%\n"
    }
   }
  },
  {
   "cell_type": "code",
   "execution_count": null,
   "metadata": {
    "pycharm": {
     "name": "#%%\n"
    }
   },
   "outputs": [],
   "source": [
    "k=1\n",
    "#print(x)\n",
    "values, indices = torch.sort(x, dim=-1, descending=True)\n",
    "print(values)\n",
    "#print(indices)\n",
    "#print(values[:, :, :1])\n",
    "print(values[:, :, :2].squeeze())\n",
    "\n",
    "values, indices = values[:, :, :k], indices[:, :, :k]\n",
    "#print(values.squeeze(-1))\n",
    "#print(indices.squeeze(-1))"
   ]
  },
  {
   "cell_type": "markdown",
   "metadata": {
    "pycharm": {
     "name": "#%% md\n"
    }
   },
   "source": [
    "### masked_fill: fill the value if element of mask is True."
   ]
  },
  {
   "cell_type": "code",
   "execution_count": null,
   "metadata": {
    "pycharm": {
     "name": "#%%\n"
    }
   },
   "outputs": [],
   "source": [
    "x = torch.FloatTensor([i for i in range(3**2)]).reshape(3, -1)\n",
    "\n",
    "print(x)\n",
    "print(x.size())"
   ]
  },
  {
   "cell_type": "code",
   "execution_count": null,
   "metadata": {
    "pycharm": {
     "name": "#%%\n"
    }
   },
   "outputs": [],
   "source": [
    "mask = x > 4\n",
    "\n",
    "print(mask)"
   ]
  },
  {
   "cell_type": "code",
   "execution_count": null,
   "metadata": {
    "pycharm": {
     "name": "#%%\n"
    }
   },
   "outputs": [],
   "source": [
    "y = x.masked_fill(mask, value=-1)\n",
    "\n",
    "print(y)"
   ]
  },
  {
   "cell_type": "markdown",
   "metadata": {
    "pycharm": {
     "name": "#%% md\n"
    }
   },
   "source": [
    "### Ones and Zeros"
   ]
  },
  {
   "cell_type": "code",
   "execution_count": null,
   "metadata": {
    "pycharm": {
     "name": "#%%\n"
    }
   },
   "outputs": [],
   "source": [
    "print(torch.ones(2, 3))\n",
    "print(torch.zeros(2, 3))"
   ]
  },
  {
   "cell_type": "code",
   "execution_count": null,
   "metadata": {
    "pycharm": {
     "name": "#%%\n"
    }
   },
   "outputs": [],
   "source": [
    "x = torch.FloatTensor([[1, 2, 3],\n",
    "                       [4, 5, 6]])\n",
    "print(x.size())"
   ]
  },
  {
   "cell_type": "code",
   "execution_count": null,
   "metadata": {
    "pycharm": {
     "name": "#%%\n"
    }
   },
   "outputs": [],
   "source": [
    "print(torch.ones_like(x))\n",
    "print(torch.zeros_like(x))"
   ]
  }
 ],
 "metadata": {
  "kernelspec": {
   "display_name": "Python 3",
   "language": "python",
   "name": "python3"
  },
  "language_info": {
   "codemirror_mode": {
    "name": "ipython",
    "version": 3
   },
   "file_extension": ".py",
   "mimetype": "text/x-python",
   "name": "python",
   "nbconvert_exporter": "python",
   "pygments_lexer": "ipython3",
   "version": "3.7.6"
  }
 },
 "nbformat": 4,
 "nbformat_minor": 2
}