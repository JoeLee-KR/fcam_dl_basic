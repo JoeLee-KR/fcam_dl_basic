{
 "cells": [
  {
   "cell_type": "markdown",
   "id": "138d8276",
   "metadata": {
    "collapsed": false,
    "pycharm": {
     "name": "#%%\n"
    }
   },
   "source": [
    "### Hello by Joe\n",
    "start here... ... "
   ]
  },
  {
   "cell_type": "code",
   "execution_count": null,
   "id": "0dc1d1ac",
   "metadata": {
    "collapsed": false,
    "pycharm": {
     "name": "#%%\n",
     "is_executing": true
    }
   },
   "outputs": [],
   "source": [
    "print(\">>>testPy.ipynb\")"
   ]
  },
  {
   "cell_type": "code",
   "execution_count": null,
   "id": "ea56713d",
   "metadata": {
    "collapsed": false,
    "pycharm": {
     "name": "#%%\n",
     "is_executing": true
    }
   },
   "outputs": [],
   "source": [
    "import numpy as np\n",
    "print(\"NUM:\", np.__version__)"
   ]
  },
  {
   "cell_type": "code",
   "execution_count": null,
   "id": "dcc6d1ed",
   "metadata": {
    "collapsed": false,
    "pycharm": {
     "name": "#%%\n",
     "is_executing": true
    }
   },
   "outputs": [],
   "source": [
    "import torch as tc\n",
    "print(\"TORCH:\", tc.__version__)"
   ]
  },
  {
   "cell_type": "code",
   "execution_count": null,
   "id": "2a4f9211",
   "metadata": {
    "collapsed": false,
    "pycharm": {
     "name": "#%%\n",
     "is_executing": true
    }
   },
   "outputs": [],
   "source": [
    "import scipy as sp\n",
    "print(\"SCI\", sp.__version__)"
   ]
  },
  {
   "cell_type": "code",
   "execution_count": null,
   "id": "783f9e33",
   "metadata": {
    "collapsed": false,
    "pycharm": {
     "name": "#%%\n",
     "is_executing": true
    }
   },
   "outputs": [],
   "source": [
    "print('Hello import...')\n",
    "# import libraries\n",
    "import pandas as pd\n",
    "import numpy as np\n",
    "import matplotlib.pyplot as plt\n",
    "import seaborn as sns\n",
    "%matplotlib inline\n",
    "print('All libraries are loaded')"
   ]
  }
 ],
 "metadata": {
  "kernelspec": {
   "display_name": "Python 3.7.13 ('joe37')",
   "language": "python",
   "name": "python3"
  },
  "language_info": {
   "codemirror_mode": {
    "name": "ipython",
    "version": 3
   },
   "file_extension": ".py",
   "mimetype": "text/x-python",
   "name": "python",
   "nbconvert_exporter": "python",
   "pygments_lexer": "ipython3",
   "version": "3.7.13"
  },
  "vscode": {
   "interpreter": {
    "hash": "103b643dce4111e430a56e504999bf150f6c6080b990e0f6bfa46eb6cb4040bd"
   }
  }
 },
 "nbformat": 4,
 "nbformat_minor": 5
}