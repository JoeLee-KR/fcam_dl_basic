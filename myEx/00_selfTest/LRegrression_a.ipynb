{
 "cells": [
  {
   "cell_type": "markdown",
   "source": [
    "#### Linear Regression Test by Math\n",
    "% matplot inline ... for only jupyternotebook, not need at pycharm"
   ],
   "metadata": {
    "collapsed": false,
    "pycharm": {
     "name": "#%% md\n"
    }
   }
  },
  {
   "cell_type": "code",
   "execution_count": 12,
   "outputs": [
    {
     "data": {
      "text/plain": "<Figure size 432x288 with 1 Axes>",
      "image/png": "[encoded data removed]"
     },
     "metadata": {
      "needs_background": "light"
     },
     "output_type": "display_data"
    },
    {
     "name": "stdout",
     "output_type": "stream",
     "text": [
      "LinregressResult(slope=1.0, intercept=0.0, rvalue=1.0, pvalue=3.292585384803146e-70, stderr=0.0, intercept_stderr=0.0)\n"
     ]
    }
   ],
   "source": [
    "# 이하 코드는 아래의 출처를 참고로 하여 작성하였습니다\n",
    "# 출처: scipy 공식 문서(https://docs.scipy.org/doc/scipy/reference/generated/scipy.stats.linregress.html)\n",
    "\n",
    "# import libraries\n",
    "import numpy as np\n",
    "from scipy import stats\n",
    "import matplotlib.pyplot as plt\n",
    "import seaborn as sns\n",
    "# % matplotlib inline\n",
    "\n",
    "# 샘플데이터, 결과는 뭘로 예상됩니까?\n",
    "A = np.array([1,2,3,4,5,6,7,8,9])\n",
    "B = np.array([1,2,3,4,5,6,7,8,9])\n",
    "\n",
    "#선형회귀 결과\n",
    "slope, intercept, r_value, p_value, std_err = stats.linregress(A,B)\n",
    "result = stats.linregress(A,B)\n",
    "\n",
    "# 시각화\n",
    "plt.plot(A, B, 'o', label='original data')\n",
    "plt.plot(A, intercept + slope*A, 'r', label='fitted line')\n",
    "plt.legend()\n",
    "plt.show()\n",
    "print(result)"
   ],
   "metadata": {
    "collapsed": false,
    "pycharm": {
     "name": "#%%\n"
    }
   }
  },
  {
   "cell_type": "markdown",
   "source": [
    "#### Linear Regression Test by ML\n",
    "import tensorflow_hub ... need for deprecated old feature"
   ],
   "metadata": {
    "collapsed": false,
    "pycharm": {
     "name": "#%% md\n"
    }
   }
  },
  {
   "cell_type": "code",
   "execution_count": 18,
   "outputs": [
    {
     "name": "stdout",
     "output_type": "stream",
     "text": [
      "학습횟수:   0   오차(cost): 299.57846   기울기: [2.1807725]   Y절편: [0.9500972]\n",
      "학습횟수:   2000   오차(cost): 2.5295066e-09   기울기: [0.9999898]   Y절편: [0.00010543]\n",
      "학습횟수:   4000   오차(cost): 1.3834267e-12   기울기: [1.0000001]   Y절편: [5.0677418e-08]\n",
      "학습횟수:   6000   오차(cost): 1.3841373e-12   기울기: [1.0000001]   Y절편: [4.9962182e-08]\n",
      "학습횟수:   8000   오차(cost): 1.3841373e-12   기울기: [1.0000001]   Y절편: [4.9962182e-08]\n",
      "학습횟수:   10000   오차(cost): 1.3841373e-12   기울기: [1.0000001]   Y절편: [4.9962182e-08]\n",
      "학습횟수:   12000   오차(cost): 1.3841373e-12   기울기: [1.0000001]   Y절편: [4.9962182e-08]\n",
      "학습횟수:   14000   오차(cost): 1.3841373e-12   기울기: [1.0000001]   Y절편: [4.9962182e-08]\n",
      "학습횟수:   16000   오차(cost): 1.3841373e-12   기울기: [1.0000001]   Y절편: [4.9962182e-08]\n",
      "학습횟수:   18000   오차(cost): 1.3841373e-12   기울기: [1.0000001]   Y절편: [4.9962182e-08]\n",
      "학습횟수:   20000   오차(cost): 1.3841373e-12   기울기: [1.0000001]   Y절편: [4.9962182e-08]\n"
     ]
    }
   ],
   "source": [
    "# 이하 코드는 아래의 출처를 참고로 하여 작성하였습니다\n",
    "# 출처: 모두를 위한 머신러닝(https://hunkim.github.io/ml/)\n",
    "# tensorflow 버전이 업데이트 됨에 따라 tensorflow import 부분 수정 진행하였습니다(2020.05.21)\n",
    "\n",
    "# 기계학습용 라이브러리인 텐서플로를 임포트 합니다.\n",
    "# 무슨말인지 이해 못하셔도 좋습니다\n",
    "# for tensorflow 1.x on tensorflow 2.0\n",
    "#import tensorflow.compat.v1 as tf\n",
    "import tensorflow.compat.v1 as tf\n",
    "tf.disable_v2_behavior()\n",
    "import tensorflow_hub\n",
    "\n",
    "# 학습도구 : 예제 데이터\n",
    "X_data = [1, 2, 3, 4, 5,6,7,8,9,10,11,12,13,14,15]\n",
    "Y_data = [1, 2, 3, 4, 5,6,7,8,9,10,11,12,13,14,15]\n",
    "\n",
    "# parameter : 기울기(slope)와 Y절편(intercept)\n",
    "A = tf.Variable(tf.random_normal([1]), name='slope')\n",
    "B = tf.Variable(tf.random_normal([1]), name='intercept')\n",
    "\n",
    "# 플레이스 홀더 선언. 지금은 뭔지 몰라도 됩니다\n",
    "X = tf.placeholder(tf.float32, shape=[None])\n",
    "Y = tf.placeholder(tf.float32, shape=[None])\n",
    "\n",
    "# 어떤 모델 만들겁니까? 네 단순선형회귀니까 1차방정식\n",
    "model = X * A + B\n",
    "\n",
    "# 학습을 진행하려면 내가 현재까지 얼마나 틀리고 있는지 알아야 합니다.\n",
    "# 그 틀린정도를 머신러닝에서는 cost(또는 loss) 라고 부릅니다. 이걸 정해줘야 학습을 하죠?\n",
    "# 이 아래 의미는 뭘까요?\n",
    "cost = tf.reduce_mean(tf.square(model - Y))\n",
    "\n",
    "# 틀린정도를 최소화 하도록 합니다. 경사하강 알고리즘을 사용합니다.\n",
    "optimizer = tf.train.GradientDescentOptimizer(learning_rate=0.01)\n",
    "train = optimizer.minimize(cost)\n",
    "\n",
    "# 세션을 키고 초기화합니다. 지금은 이게 뭔지 모르셔도 됩니다\n",
    "sess = tf.Session()\n",
    "sess.run(tf.global_variables_initializer())\n",
    "\n",
    "# 반복문을 돌리기 위해 변수를 선언해 둡니다. 이부분도 여러분들이 지금은 모르셔도 됩니다\n",
    "run_cost = []\n",
    "run_weight = []\n",
    "run_bias = []\n",
    "\n",
    "# 자. 학습을 시켜 보겠습니다.\n",
    "# 아래 range(2001) 이라고 되어있는거 보이시죠? 이게 학습 횟수입니다.\n",
    "# 스스로 최적화 하여 parmeter를 최적화하는걸 보실수 있습니다. 결과가 이해 되시나요?\n",
    "for step in range(2001):\n",
    "  run_cost, run_weight, run_bias, f_data = sess.run([cost, A, B, train], feed_dict={X: X_data, Y: Y_data})\n",
    "  if step % 200 == 0:\n",
    "    print('학습횟수:',' ',step,' ','오차(cost):',run_cost,' ','기울기:', run_weight,' ','Y절편:', run_bias)"
   ],
   "metadata": {
    "collapsed": false,
    "pycharm": {
     "name": "#%%\n"
    }
   }
  },
  {
   "cell_type": "code",
   "execution_count": 17,
   "outputs": [
    {
     "data": {
      "text/plain": "array([12.999999], dtype=float32)"
     },
     "execution_count": 17,
     "metadata": {},
     "output_type": "execute_result"
    }
   ],
   "source": [
    "# 예측을 한번 해봅시다\n",
    "# 위 예제 데이터의 관계성에 따르면 X가 10일때 예상되는 Y는 얼마입니까?\n",
    "sess.run(model, feed_dict = {X : [13]})"
   ],
   "metadata": {
    "collapsed": false,
    "pycharm": {
     "name": "#%%\n"
    }
   }
  },
  {
   "cell_type": "code",
   "execution_count": 19,
   "outputs": [
    {
     "name": "stdout",
     "output_type": "stream",
     "text": [
      "S 0\n",
      "S 1\n",
      "S 2\n",
      "S 3\n",
      "S 4\n",
      "S 5\n",
      "S 6\n",
      "S 7\n",
      "S 8\n",
      "S 9\n"
     ]
    }
   ],
   "source": [
    "for step in range(10):\n",
    "  print(\"S\", step)"
   ],
   "metadata": {
    "collapsed": false,
    "pycharm": {
     "name": "#%%\n"
    }
   }
  },
  {
   "cell_type": "code",
   "execution_count": null,
   "outputs": [],
   "source": [],
   "metadata": {
    "collapsed": false,
    "pycharm": {
     "name": "#%%\n"
    }
   }
  }
 ],
 "metadata": {
  "kernelspec": {
   "display_name": "Python 3",
   "language": "python",
   "name": "python3"
  },
  "language_info": {
   "codemirror_mode": {
    "name": "ipython",
    "version": 2
   },
   "file_extension": ".py",
   "mimetype": "text/x-python",
   "name": "python",
   "nbconvert_exporter": "python",
   "pygments_lexer": "ipython2",
   "version": "2.7.6"
  }
 },
 "nbformat": 4,
 "nbformat_minor": 0
}